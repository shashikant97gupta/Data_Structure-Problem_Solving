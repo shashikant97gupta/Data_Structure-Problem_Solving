{
 "cells": [
  {
   "cell_type": "code",
   "execution_count": null,
   "metadata": {},
   "outputs": [],
   "source": [
    "# Problem Statement: Given an array of N integers, write a program to implement the Selection sorting algorithm.\n",
    "\n",
    "# Examples:\n",
    "\n",
    "# Example 1:\n",
    "# Input: N = 6, array[] = {13,46,24,52,20,9}\n",
    "# Output: 9,13,20,24,46,52\n",
    "# Explanation: After sorting the array is: 9, 13, 20, 24, 46, 52\n",
    "\n",
    "# Example 2:\n",
    "# Input: N=5, array[] = {5,4,3,2,1}\n",
    "# Output: 1,2,3,4,5\n",
    "# Explanation: After sorting the array is: 1, 2, 3, 4, 5"
   ]
  },
  {
   "cell_type": "code",
   "execution_count": 13,
   "metadata": {},
   "outputs": [],
   "source": [
    "arr = [13,46,24,52,20,9]"
   ]
  },
  {
   "cell_type": "code",
   "execution_count": 19,
   "metadata": {},
   "outputs": [],
   "source": [
    "# Done by me after getting refernece from GPT\n",
    "\n",
    "def selection_sort(arr):\n",
    "    for i in range(0, len(arr)):  \n",
    "        min_index = i      \n",
    "        for j in range(i, len(arr)):\n",
    "            if(arr[j] < arr[min_index]):\n",
    "                min_index = j\n",
    "        arr[i], arr[min_index] = arr[min_index] , arr[i]\n",
    "    return arr"
   ]
  },
  {
   "cell_type": "code",
   "execution_count": 20,
   "metadata": {},
   "outputs": [
    {
     "data": {
      "text/plain": [
       "[9, 13, 20, 24, 46, 52]"
      ]
     },
     "execution_count": 20,
     "metadata": {},
     "output_type": "execute_result"
    }
   ],
   "source": [
    "selection_sort(arr)"
   ]
  },
  {
   "cell_type": "code",
   "execution_count": 12,
   "metadata": {},
   "outputs": [
    {
     "name": "stdout",
     "output_type": "stream",
     "text": [
      "[11, 12, 22, 25, 64]\n"
     ]
    }
   ],
   "source": [
    "\n",
    "# Via Chat Gpt\n",
    "\n",
    "def selection_sort(arr):\n",
    "    n = len(arr)\n",
    "    for i in range(n):\n",
    "        min_index = i\n",
    "        for j in range(i + 1, n):\n",
    "            if arr[j] < arr[min_index]:\n",
    "                min_index = j\n",
    "        arr[i], arr[min_index] = arr[min_index], arr[i]\n",
    "    return arr\n",
    "\n",
    "# Example usage\n",
    "arr = [64, 25, 12, 22, 11]\n",
    "sorted_arr = selection_sort(arr)\n",
    "print(sorted_arr)"
   ]
  },
  {
   "cell_type": "markdown",
   "metadata": {},
   "source": [
    "Bubble Sort Algorithm\n",
    "\n",
    "\n",
    "89\n",
    "\n",
    "0\n",
    "Problem Statement: Given an array of N integers, write a program to implement the Bubble Sorting algorithm.\n",
    "\n",
    "Examples:\n",
    "\n",
    "Example 1:\n",
    "Input: N = 6, array[] = {13,46,24,52,20,9}\n",
    "Output: 9,13,20,24,46,52\n",
    "Explanation: After sorting we get 9,13,20,24,46,52\n",
    "\n",
    "\n",
    "Input: N = 5, array[] = {5,4,3,2,1}\n",
    "Output: 1,2,3,4,5\n",
    "Explanation: After sorting we get 1,2,3,4,5\n"
   ]
  },
  {
   "cell_type": "code",
   "execution_count": 55,
   "metadata": {},
   "outputs": [],
   "source": [
    "def bubble_sort(arr):\n",
    "    n = len(arr)\n",
    "    for i in range(0, n):\n",
    "        swap = False\n",
    "        for j in range(0, n-i-1):\n",
    "            if((j+1 <= n-1) and (arr[j] > arr[j+1])):\n",
    "                arr[j], arr[j+1] = arr[j+1], arr[j]\n",
    "                swap = True\n",
    "        if not swap:\n",
    "            break\n",
    "\n",
    "    return arr\n",
    "\n"
   ]
  },
  {
   "cell_type": "code",
   "execution_count": 56,
   "metadata": {},
   "outputs": [
    {
     "data": {
      "text/plain": [
       "[9, 13, 20, 24, 46, 52]"
      ]
     },
     "execution_count": 56,
     "metadata": {},
     "output_type": "execute_result"
    }
   ],
   "source": [
    "bubble_sort(arr)"
   ]
  },
  {
   "cell_type": "markdown",
   "metadata": {},
   "source": [
    "Insertion Sort Algorithm\n",
    "\n",
    "\n",
    "96\n",
    "\n",
    "0\n",
    "Problem Statement: Given an array of N integers, write a program to implement the Insertion sorting algorithm.\n",
    "\n",
    "Examples:\n",
    "\n",
    "Example 1:\n",
    "Input: N = 6, array[] = {13,46,24,52,20,9}\n",
    "Output: 9,13,20,24,46,52\n",
    "Explanation: \n",
    "After sorting the array is: 9,13,20,24,46,52\n",
    "\n",
    "\n",
    "Example 2:\n",
    "Input: N=5, array[] = {5,4,3,2,1}\n",
    "Output: 1,2,3,4,5\n",
    "Explanation: After sorting the array is: 1,2,3,4,5"
   ]
  },
  {
   "cell_type": "code",
   "execution_count": 2,
   "metadata": {},
   "outputs": [
    {
     "ename": "NameError",
     "evalue": "name 'python3' is not defined",
     "output_type": "error",
     "traceback": [
      "\u001b[0;31m---------------------------------------------------------------------------\u001b[0m",
      "\u001b[0;31mNameError\u001b[0m                                 Traceback (most recent call last)",
      "\u001b[0;32m<ipython-input-2-838e6872e6eb>\u001b[0m in \u001b[0;36m<module>\u001b[0;34m\u001b[0m\n\u001b[0;32m----> 1\u001b[0;31m \u001b[0mpython3\u001b[0m \u001b[0;34m-\u001b[0m\u001b[0mv\u001b[0m\u001b[0;34m\u001b[0m\u001b[0;34m\u001b[0m\u001b[0m\n\u001b[0m",
      "\u001b[0;31mNameError\u001b[0m: name 'python3' is not defined"
     ]
    }
   ],
   "source": [
    "python -v"
   ]
  },
  {
   "cell_type": "code",
   "execution_count": 18,
   "metadata": {},
   "outputs": [
    {
     "name": "stdout",
     "output_type": "stream",
     "text": [
      "[9, 13, 20, 24, 46, 52]\n"
     ]
    }
   ],
   "source": [
    "# Insertion Sorting Algorithm\n",
    "\n",
    "def insertion_sort(arr):\n",
    "    for i in range(1,len(arr)):\n",
    "        key = arr[i]\n",
    "        j = i-1\n",
    "        while j>=0 and arr[j] > key:\n",
    "            arr[j+1] = arr[j]\n",
    "            j -= 1\n",
    "        arr[j+1] = key\n",
    "    return arr\n",
    "\n",
    "arr = [13,46,24,52,20,9]\n",
    "print(insertion_sort(arr))\n",
    "\n",
    "\n",
    "\n",
    "\n"
   ]
  },
  {
   "cell_type": "code",
   "execution_count": 2,
   "metadata": {},
   "outputs": [
    {
     "name": "stdout",
     "output_type": "stream",
     "text": [
      "Sorted array: [5, 6, 11, 12, 13]\n"
     ]
    }
   ],
   "source": [
    "def insertion_sort(arr):\n",
    "    # Iterate over each element in the array starting from the second element\n",
    "    for i in range(1, len(arr)):\n",
    "        key = arr[i]\n",
    "        j = i - 1\n",
    "        \n",
    "        # Move elements of arr[0..i-1] that are greater than key\n",
    "        # to one position ahead of their current position\n",
    "        while j >= 0 and arr[j] > key:\n",
    "            arr[j + 1] = arr[j]\n",
    "            j -= 1\n",
    "            \n",
    "        # Insert the key at the correct position\n",
    "        arr[j + 1] = key\n",
    "\n",
    "# Example usage:\n",
    "array = [12, 11, 13, 5, 6]\n",
    "insertion_sort(array)\n",
    "print(\"Sorted array:\", array)"
   ]
  },
  {
   "cell_type": "markdown",
   "metadata": {},
   "source": []
  },
  {
   "cell_type": "markdown",
   "metadata": {},
   "source": [
    "Merge Sort Algorithm\n",
    "\n",
    "\n",
    "305\n",
    "\n",
    "3\n",
    "Problem:  Given an array of size n, sort the array using Merge Sort.\n",
    "\n",
    "Examples:\n",
    "\n",
    "Example 1:\n",
    "Input: N=5, arr[]={4,2,1,6,7}\n",
    "Output: 1,2,4,6,7,\n",
    "\n",
    "\n",
    "Example 2:\n",
    "Input: N=7,arr[]={3,2,8,5,1,4,23}\n",
    "Output: 1,2,3,4,5,8,23\n",
    "Solution"
   ]
  },
  {
   "cell_type": "code",
   "execution_count": 21,
   "metadata": {},
   "outputs": [
    {
     "name": "stdout",
     "output_type": "stream",
     "text": [
      "[1, 2, 3, 4, 5, 8, 23]\n"
     ]
    }
   ],
   "source": [
    "def merge_sort(arr):\n",
    "    if(len(arr) <= 1):\n",
    "        return arr\n",
    "    \n",
    "    mid = len(arr)//2\n",
    "\n",
    "    left_arr = arr[0:mid]\n",
    "    right_arr = arr[mid:]\n",
    "\n",
    "    left_sorted = merge_sort(left_arr)\n",
    "    right_sorted = merge_sort(right_arr)\n",
    "\n",
    "    return merge(left_sorted, right_sorted)\n",
    "\n",
    "def merge(left, right):\n",
    "    result = []\n",
    "    i = j = 0\n",
    "\n",
    "    while i < len(left) and j < len(right):\n",
    "        if( left[i] < right[j]):\n",
    "            result.append(left[i])\n",
    "            i += 1\n",
    "\n",
    "        else:\n",
    "            result.append(right[j])\n",
    "            j += 1\n",
    "\n",
    "\n",
    "    while i < len(left):\n",
    "        result.append(left[i])\n",
    "        i += 1\n",
    "\n",
    "    while j < len(right):\n",
    "        result.append(right[j])\n",
    "        j+= 1\n",
    "\n",
    "    return result   \n",
    "\n",
    "\n",
    "arr = [3,2,8,5,1,4,23]\n",
    "print(merge_sort(arr))"
   ]
  },
  {
   "cell_type": "code",
   "execution_count": 22,
   "metadata": {},
   "outputs": [
    {
     "name": "stdout",
     "output_type": "stream",
     "text": [
      "leaft [2] right [8]\n",
      "leaft [3] right [2, 8]\n",
      "leaft [5] right [1]\n",
      "leaft [4] right [23]\n",
      "leaft [1, 5] right [4, 23]\n",
      "leaft [2, 3, 8] right [1, 4, 5, 23]\n",
      "[1, 2, 3, 4, 5, 8, 23]\n"
     ]
    }
   ],
   "source": [
    "def merge_sort(arr):\n",
    "    if len(arr) <= 1:\n",
    "        return arr\n",
    "\n",
    "    # Split the list into two halves\n",
    "    mid = len(arr) // 2\n",
    "    left_half = merge_sort(arr[:mid])\n",
    "    right_half = merge_sort(arr[mid:])\n",
    "\n",
    "    # Merge the sorted halves\n",
    "    print(\"leaft\", left_half, \"right\", right_half)\n",
    "    return merge(left_half, right_half)\n",
    "\n",
    "def merge(left, right):\n",
    "    merged = []\n",
    "    left_index, right_index = 0, 0\n",
    "\n",
    "    # Merge the two lists while there are elements in both\n",
    "    while left_index < len(left) and right_index < len(right):\n",
    "        if left[left_index] <= right[right_index]:\n",
    "            merged.append(left[left_index])\n",
    "            left_index += 1\n",
    "        else:\n",
    "            merged.append(right[right_index])\n",
    "            right_index += 1\n",
    "\n",
    "    # Append any remaining elements from both lists\n",
    "    merged.extend(left[left_index:])\n",
    "    merged.extend(right[right_index:])\n",
    "\n",
    "    return merged\n",
    "\n",
    "\n",
    "arr = [3,2,8,5,1,4,23]\n",
    "print(merge_sort(arr))\n"
   ]
  },
  {
   "cell_type": "markdown",
   "metadata": {},
   "source": [
    "Recursive Bubble Sort Algorithm\n",
    "\n",
    "\n",
    "97\n",
    "\n",
    "4\n",
    "Problem Statement: Given an array of N integers, write a program to implement the Recursive Bubble Sort algorithm.\n",
    "\n",
    "Examples:\n",
    "\n",
    "Example 1:\n",
    "Input: N = 6, array[] = {13,46,24,52,20,9}\n",
    "Output: 9,13,20,24,46,52\n",
    "Explanation: After sorting we get 9,13,20,24,46,52\n",
    "\n",
    "Example 2:\n",
    "Input: N = 5, array[] = {5,4,3,2,1}\n",
    "Output: 1,2,3,4,5\n",
    "Explanation: After sorting we get 1,2,3,4,5"
   ]
  },
  {
   "cell_type": "code",
   "execution_count": 5,
   "metadata": {},
   "outputs": [
    {
     "name": "stdout",
     "output_type": "stream",
     "text": [
      "[9, 13, 20, 24, 46, 52]\n"
     ]
    }
   ],
   "source": [
    "def recursive_bubble(arr, m):  \n",
    "    if(m <= 1):\n",
    "        return\n",
    "    \n",
    "    \n",
    "    for i in range(m-1):\n",
    "        if(arr[i] > arr[i+1]):\n",
    "            arr[i], arr[i+1] = arr[i+1], arr[i]\n",
    "\n",
    "    recursive_bubble(arr, m-1)\n",
    "\n",
    "\n",
    "arr = [13,46,24,52,20,9]\n",
    "recursive_bubble(arr, len(arr))\n",
    "print(arr)\n"
   ]
  },
  {
   "cell_type": "code",
   "execution_count": 4,
   "metadata": {},
   "outputs": [
    {
     "name": "stdout",
     "output_type": "stream",
     "text": [
      "Sorted array: [9, 13, 20, 24, 46, 52]\n"
     ]
    }
   ],
   "source": [
    "def recursive_bubble(arr, m):\n",
    "    # Base case: If m is 1 or less, the array is sorted\n",
    "    if m <= 1:\n",
    "        return\n",
    "    \n",
    "    # Perform a single pass of bubble sort\n",
    "    for i in range(m - 1):\n",
    "        if arr[i] > arr[i + 1]:\n",
    "            arr[i], arr[i + 1] = arr[i + 1], arr[i]\n",
    "\n",
    "    # Recursively sort the first m-1 elements\n",
    "    recursive_bubble(arr, m - 1)\n",
    "\n",
    "# Example usage\n",
    "arr = [13, 46, 24, 52, 20, 9]\n",
    "recursive_bubble(arr, len(arr))\n",
    "print(\"Sorted array:\", arr)"
   ]
  },
  {
   "cell_type": "markdown",
   "metadata": {},
   "source": []
  },
  {
   "cell_type": "markdown",
   "metadata": {},
   "source": [
    "Recursive Insertion Sort Algorithm\n",
    "\n",
    "\n",
    "46\n",
    "\n",
    "2\n",
    "Problem Statement: Given an array of N integers, write a program to implement the Recursive Insertion Sort algorithm.\n",
    "\n",
    "Examples:\n",
    "\n",
    "Example 1:\n",
    "Input: N = 6, array[] = {13,46,24,52,20,9}\n",
    "Output: 9,13,20,24,46,52\n",
    "Explanation: After sorting we get 9,13,20,24,46,52\n",
    "\n",
    "Example 2:\n",
    "Input: N = 5, array[] = {5,4,3,2,1}\n",
    "Output: 1,2,3,4,5\n",
    "Explanation: After sorting we get 1,2,3,4,5"
   ]
  },
  {
   "cell_type": "code",
   "execution_count": 8,
   "metadata": {},
   "outputs": [
    {
     "name": "stdout",
     "output_type": "stream",
     "text": [
      "Sorted array: [9, 13, 20, 24, 46, 52]\n"
     ]
    }
   ],
   "source": [
    "def recursive_insertion_sort(arr, m):\n",
    "    if(m <= 1):\n",
    "        return\n",
    "\n",
    "    recursive_insertion_sort(arr, m-1)\n",
    "    \n",
    "    key = arr[m-1]\n",
    "    j = m-2    \n",
    "    while j>=0 and arr[j] > key:\n",
    "        arr[j+1] = arr[j]\n",
    "        j -= 1\n",
    "    arr[j+1] = key\n",
    "    \n",
    "\n",
    "\n",
    "# Example usage\n",
    "arr = [13, 46, 24, 52, 20, 9]\n",
    "recursive_insertion_sort(arr, len(arr))\n",
    "print(\"Sorted array:\", arr)"
   ]
  },
  {
   "cell_type": "code",
   "execution_count": null,
   "metadata": {},
   "outputs": [],
   "source": [
    "\n",
    "# Insertion Sorting Algorithm\n",
    "\n",
    "def insertion_sort(arr):\n",
    "    for i in range(1,len(arr)):\n",
    "        key = arr[i]\n",
    "        j = i-1\n",
    "        while j>=0 and arr[j] > key:\n",
    "            arr[j+1] = arr[j]\n",
    "            j -= 1\n",
    "        arr[j+1] = key\n",
    "    return arr\n",
    "\n",
    "arr = [13,46,24,52,20,9]\n",
    "print(insertion_sort(arr))"
   ]
  },
  {
   "cell_type": "code",
   "execution_count": null,
   "metadata": {},
   "outputs": [],
   "source": []
  },
  {
   "cell_type": "markdown",
   "metadata": {},
   "source": [
    "Quick Sort Algorithm\n",
    "\n",
    "\n",
    "151\n",
    "\n",
    "4\n",
    "Problem Statement:  Given an array of n integers, sort the array using the Quicksort method.\n",
    "\n",
    "Examples:\n",
    "\n",
    "Example 1:\n",
    "Input:  N = 5  , Arr[] = {4,1,7,9,3}\n",
    "Output: 1 3 4 7 9 \n",
    "\n",
    "Explanation: After sorting the array becomes 1, 3, 4, 7, 9\n",
    "\n",
    "Example 2:\n",
    "Input: N = 8 , Arr[] = {4,6,2,5,7,9,1,3}\n",
    "Output: 1 2 3 4 5 6 7 9\n",
    "Explanation: After sorting the array becomes 1, 3, 4, 7, 9"
   ]
  },
  {
   "cell_type": "code",
   "execution_count": 9,
   "metadata": {},
   "outputs": [
    {
     "name": "stdout",
     "output_type": "stream",
     "text": [
      "Sorted arr [1, 2, 3, 4, 5, 6, 7, 9]\n"
     ]
    }
   ],
   "source": [
    "def quick_sort(arr):\n",
    "    if len(arr) <= 1:\n",
    "        return arr\n",
    "    else :\n",
    "        pivot = arr[len(arr)//2]\n",
    "        left = [x for x in arr if x < pivot]\n",
    "        middle = [x for x in arr if x == pivot]\n",
    "        right = [x for x in arr if x > pivot]\n",
    "        return quick_sort(left) + middle + quick_sort(right)\n",
    "\n",
    "arr = [4,6,2,5,7,9,1,3]\n",
    "print(\"Sorted arr\", quick_sort(arr))"
   ]
  },
  {
   "cell_type": "code",
   "execution_count": null,
   "metadata": {},
   "outputs": [],
   "source": []
  }
 ],
 "metadata": {
  "kernelspec": {
   "display_name": ".venv",
   "language": "python",
   "name": "python3"
  },
  "language_info": {
   "codemirror_mode": {
    "name": "ipython",
    "version": 3
   },
   "file_extension": ".py",
   "mimetype": "text/x-python",
   "name": "python",
   "nbconvert_exporter": "python",
   "pygments_lexer": "ipython3",
   "version": "3.6.15"
  }
 },
 "nbformat": 4,
 "nbformat_minor": 2
}
