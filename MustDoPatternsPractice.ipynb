{
 "cells": [
  {
   "cell_type": "code",
   "execution_count": 2,
   "metadata": {},
   "outputs": [
    {
     "name": "stdout",
     "output_type": "stream",
     "text": [
      "**********\n",
      "**********\n",
      "**********\n",
      "**********\n",
      "**********\n",
      "**********\n",
      "**********\n",
      "**********\n",
      "**********\n",
      "**********\n"
     ]
    }
   ],
   "source": [
    "# Pattern One \n",
    "\n",
    "num = int(input(\"Enter a Number for matrix printing:-\"))\n",
    "for i in range(1, num+1):\n",
    "    print(\"*\"*num)\n"
   ]
  },
  {
   "cell_type": "code",
   "execution_count": 3,
   "metadata": {},
   "outputs": [
    {
     "name": "stdout",
     "output_type": "stream",
     "text": [
      "*\n",
      "**\n",
      "***\n",
      "****\n",
      "*****\n"
     ]
    }
   ],
   "source": [
    "# Pattern Two\n",
    "\n",
    "num = int(input(\"Enter a Number for matrix printing:-\"))\n",
    "for i in range(1, num+1):\n",
    "    print(\"*\"*i)"
   ]
  },
  {
   "cell_type": "code",
   "execution_count": 8,
   "metadata": {},
   "outputs": [
    {
     "name": "stdout",
     "output_type": "stream",
     "text": [
      "1\n",
      "12\n",
      "123\n",
      "1234\n",
      "12345\n"
     ]
    }
   ],
   "source": [
    "# Pattern Three\n",
    "\n",
    "num = int(input(\"Enter a Number for matrix printing:-\"))\n",
    "for i in range(1, num+1):\n",
    "    val = [str(j) for j in range(1, i+1)]\n",
    "    print(''.join(val))\n",
    "        "
   ]
  },
  {
   "cell_type": "code",
   "execution_count": 9,
   "metadata": {},
   "outputs": [
    {
     "name": "stdout",
     "output_type": "stream",
     "text": [
      "1\n",
      "12\n",
      "123\n",
      "1234\n",
      "12345\n"
     ]
    }
   ],
   "source": [
    "#  Different Approach Pattern 3\n",
    "num = int(input(\"Enter a Number for matrix printing:-\"))\n",
    "for i in range(1, num+1):\n",
    "    for j in range(1, i+1):\n",
    "        print(j, end=\"\")\n",
    "    print()"
   ]
  },
  {
   "cell_type": "code",
   "execution_count": 12,
   "metadata": {},
   "outputs": [
    {
     "name": "stdout",
     "output_type": "stream",
     "text": [
      "1\n",
      "22\n",
      "333\n",
      "4444\n",
      "55555\n",
      "666666\n"
     ]
    }
   ],
   "source": [
    "# Pattern 4\n",
    "\n",
    "num = int(input(\"Enter a Number for matrix printing:-\"))\n",
    "for i in range(1, num+1):\n",
    "    for j in range(1, i+1):\n",
    "        print(i, end=\"\")\n",
    "    print()\n"
   ]
  },
  {
   "cell_type": "code",
   "execution_count": 17,
   "metadata": {},
   "outputs": [
    {
     "name": "stdout",
     "output_type": "stream",
     "text": [
      "*********\n",
      "********\n",
      "*******\n",
      "******\n",
      "*****\n",
      "****\n",
      "***\n",
      "**\n",
      "*\n"
     ]
    }
   ],
   "source": [
    "# pattern 5\n",
    "\n",
    "num = int(input(\"Enter a Number for matrix printing:-\"))\n",
    "for i in range(num, 0, -1):\n",
    "    print(\"*\"*i)\n"
   ]
  },
  {
   "cell_type": "code",
   "execution_count": 20,
   "metadata": {},
   "outputs": [
    {
     "name": "stdout",
     "output_type": "stream",
     "text": [
      "123456\n",
      "12345\n",
      "1234\n",
      "123\n",
      "12\n",
      "1\n"
     ]
    }
   ],
   "source": [
    "# pattern 6\n",
    "\n",
    "num = int(input(\"Enter a Number for matrix printing:-\"))\n",
    "for i in range(num, 0, -1):\n",
    "    for j in range(1, i+1):\n",
    "        print(j, end=\"\")\n",
    "    print()\n"
   ]
  },
  {
   "cell_type": "code",
   "execution_count": 23,
   "metadata": {},
   "outputs": [
    {
     "name": "stdout",
     "output_type": "stream",
     "text": [
      "     *     \n",
      "    ***    \n",
      "   *****   \n",
      "  *******  \n",
      " ********* \n",
      "***********\n"
     ]
    }
   ],
   "source": [
    "# pattern 7\n",
    "\n",
    "num = int(input(\"Enter a Number for matrix printing:-\"))\n",
    "for i in range(1, num+1):\n",
    "    print(\" \"*(num-i)+\"*\"*(i-1)+\"*\"+\"*\"*(i-1)+\" \"*(num-i))\n"
   ]
  },
  {
   "cell_type": "code",
   "execution_count": 24,
   "metadata": {},
   "outputs": [
    {
     "name": "stdout",
     "output_type": "stream",
     "text": [
      "*********\n",
      " ******* \n",
      "  *****  \n",
      "   ***   \n",
      "    *    \n"
     ]
    }
   ],
   "source": [
    "# pattern 8\n",
    "\n",
    "num = int(input(\"Enter a Number for matrix printing:-\"))\n",
    "for i in range(num, 0, -1):\n",
    "    print(\" \"*(num-i)+\"*\"*(i-1)+\"*\"+\"*\"*(i-1)+\" \"*(num-i))"
   ]
  },
  {
   "cell_type": "code",
   "execution_count": 25,
   "metadata": {},
   "outputs": [
    {
     "name": "stdout",
     "output_type": "stream",
     "text": [
      "     *     \n",
      "    ***    \n",
      "   *****   \n",
      "  *******  \n",
      " ********* \n",
      "***********\n",
      "***********\n",
      " ********* \n",
      "  *******  \n",
      "   *****   \n",
      "    ***    \n",
      "     *     \n"
     ]
    }
   ],
   "source": [
    "# pattern 9\n",
    "\n",
    "num = int(input(\"Enter a Number for matrix printing:-\"))\n",
    "for i in range(1, num+1):\n",
    "    print(\" \"*(num-i)+\"*\"*(i-1)+\"*\"+\"*\"*(i-1)+\" \"*(num-i))\n",
    "for i in range(num, 0, -1):\n",
    "    print(\" \"*(num-i)+\"*\"*(i-1)+\"*\"+\"*\"*(i-1)+\" \"*(num-i))"
   ]
  },
  {
   "cell_type": "code",
   "execution_count": 26,
   "metadata": {},
   "outputs": [
    {
     "name": "stdout",
     "output_type": "stream",
     "text": [
      "*\n",
      "**\n",
      "***\n",
      "****\n",
      "*****\n",
      "******\n",
      "******\n",
      "*****\n",
      "****\n",
      "***\n",
      "**\n",
      "*\n"
     ]
    }
   ],
   "source": [
    "# pattern 10\n",
    "\n",
    "num = int(input(\"Enter a Number for matrix printing:-\"))\n",
    "for i in range(1, num+1):\n",
    "    print(\"*\"*(i))\n",
    "for i in range(num, 0, -1):\n",
    "    print(\"*\"*(i))\n"
   ]
  },
  {
   "cell_type": "code",
   "execution_count": 6,
   "metadata": {},
   "outputs": [
    {
     "name": "stdout",
     "output_type": "stream",
     "text": [
      "1\n",
      "01\n",
      "101\n",
      "0101\n",
      "10101\n"
     ]
    }
   ],
   "source": [
    "# pattern 11\n",
    "\n",
    "\n",
    "num = int(input(\"Enter a Number for matrix printing:-\"))\n",
    "for i in range(1, num+1):\n",
    "    item = 0\n",
    "    op = ''\n",
    "    for j in range(1,i+1):\n",
    "        item =  0 if item == 1 else 1\n",
    "        op = str(item) + op\n",
    "        # print(item, end=\"\")\n",
    "    print(op)\n",
    "    \n",
    "\n",
    "\n"
   ]
  },
  {
   "cell_type": "code",
   "execution_count": 9,
   "metadata": {},
   "outputs": [
    {
     "name": "stdout",
     "output_type": "stream",
     "text": [
      "1      1\n",
      "12    21\n",
      "123  321\n",
      "12344321\n"
     ]
    }
   ],
   "source": [
    "# pattern 12\n",
    "\n",
    "# mine code\n",
    "\n",
    "num = int(input(\"Enter a Number for matrix printing:-\"))\n",
    "for i in range(1,num+1):\n",
    "    op = ''\n",
    "    rev_op = ''\n",
    "    for j in range(1, i+1):\n",
    "        op += str(j)\n",
    "        rev_op += str(i+1-j)\n",
    "\n",
    "    op =  op + ' '*(num-i)\n",
    "    rev_op = ' '*(num-i) + rev_op\n",
    "\n",
    "    print(op + rev_op)\n"
   ]
  },
  {
   "cell_type": "code",
   "execution_count": 15,
   "metadata": {},
   "outputs": [
    {
     "name": "stdout",
     "output_type": "stream",
     "text": [
      "\n",
      "1 \n",
      "2 3 \n",
      "4 5 6 \n",
      "7 8 9 10 \n",
      "11 12 13 14 15 \n",
      "16 17 18 19 20 21 \n",
      "22 23 24 25 26 27 28 \n",
      "29 30 31 32 33 34 35 36 \n",
      "37 38 39 40 41 42 43 44 45 \n"
     ]
    }
   ],
   "source": [
    "#pattern number 13\n",
    "\n",
    "# Implementing pattern 13 when we have given level/height of pattern\n",
    "num = int(input(\"Enter a Number for matrix printing:-\"))\n",
    "succ = 0\n",
    "for i in range(0, num):\n",
    "    for j in range(0, i):\n",
    "        succ += 1\n",
    "        print(succ, end=\" \")\n",
    "    print()\n",
    "\n",
    "\n",
    "\n"
   ]
  },
  {
   "cell_type": "code",
   "execution_count": 26,
   "metadata": {},
   "outputs": [
    {
     "name": "stdout",
     "output_type": "stream",
     "text": [
      "A \n",
      "A B \n",
      "A B C \n",
      "A B C D \n",
      "A B C D E \n",
      "A B C D E F \n"
     ]
    }
   ],
   "source": [
    "#pattern number 14\n",
    "\n",
    "# Implementing pattern 14 when we have given level/height of pattern\n",
    "num = int(input(\"Enter a Number for matrix printing:-\"))\n",
    "for i in range(65, 65+num+1):\n",
    "    for j in range(65, i+1):\n",
    "        print(chr(j), end=\" \")\n",
    "    print()\n",
    "    "
   ]
  },
  {
   "cell_type": "code",
   "execution_count": 29,
   "metadata": {},
   "outputs": [
    {
     "name": "stdout",
     "output_type": "stream",
     "text": [
      "A B C D E \n",
      "A B C D \n",
      "A B C \n",
      "A B \n",
      "A \n"
     ]
    }
   ],
   "source": [
    "# pattern 15\n",
    "\n",
    "# Implementing pattern 15 when we have given level/height of pattern\n",
    "num = int(input(\"Enter a Number for matrix printing:-\"))\n",
    "for i in range(num+65, 65, -1):\n",
    "    for j in range(65, i):\n",
    "        print(chr(j), end=\" \")\n",
    "    print()"
   ]
  },
  {
   "cell_type": "code",
   "execution_count": 32,
   "metadata": {},
   "outputs": [
    {
     "name": "stdout",
     "output_type": "stream",
     "text": [
      "A\n",
      "BB\n",
      "CCC\n",
      "DDDD\n",
      "EEEEE\n"
     ]
    }
   ],
   "source": [
    "# pattern 16\n",
    "\n",
    "# Implementing pattern 16 when we have given level/height of pattern\n",
    "num = int(input(\"Enter a Number for matrix printing:-\"))\n",
    "times = 1\n",
    "for i in range(65, 65+num):\n",
    "    print(chr(i)*times)\n",
    "    times += 1"
   ]
  },
  {
   "cell_type": "code",
   "execution_count": 8,
   "metadata": {},
   "outputs": [
    {
     "name": "stdout",
     "output_type": "stream",
     "text": [
      "     A\n",
      "    ABA\n",
      "   ABCBA\n",
      "  ABCDCBA\n",
      " ABCDEDCBA\n"
     ]
    }
   ],
   "source": [
    "# pattern 17\n",
    "\n",
    "# Implementing pattern 17 when we have given level/height of pattern\n",
    "num = int(input(\"Enter a Number for matrix printing:-\"))\n",
    "for i in range(65, 65+num):\n",
    "    row = ''\n",
    "    for j in range(65, i):\n",
    "        row = row + chr(j)\n",
    "    for k in range(i, 64, -1):\n",
    "        row += chr(k)\n",
    "    print(\" \"*((65+num)-i) +row)\n",
    "\n",
    "\n",
    "\n",
    "\n",
    "\n",
    "\n",
    "\n",
    "    \n",
    "\n"
   ]
  },
  {
   "cell_type": "code",
   "execution_count": 47,
   "metadata": {},
   "outputs": [
    {
     "data": {
      "text/plain": [
       "'A'"
      ]
     },
     "execution_count": 47,
     "metadata": {},
     "output_type": "execute_result"
    }
   ],
   "source": [
    "chr(65)"
   ]
  },
  {
   "cell_type": "code",
   "execution_count": null,
   "metadata": {},
   "outputs": [],
   "source": []
  },
  {
   "cell_type": "code",
   "execution_count": null,
   "metadata": {},
   "outputs": [],
   "source": []
  },
  {
   "cell_type": "code",
   "execution_count": null,
   "metadata": {},
   "outputs": [],
   "source": []
  },
  {
   "cell_type": "code",
   "execution_count": null,
   "metadata": {},
   "outputs": [],
   "source": []
  },
  {
   "cell_type": "code",
   "execution_count": null,
   "metadata": {},
   "outputs": [],
   "source": []
  },
  {
   "cell_type": "code",
   "execution_count": null,
   "metadata": {},
   "outputs": [],
   "source": []
  },
  {
   "cell_type": "code",
   "execution_count": null,
   "metadata": {},
   "outputs": [],
   "source": []
  }
 ],
 "metadata": {
  "kernelspec": {
   "display_name": ".venv",
   "language": "python",
   "name": "python3"
  },
  "language_info": {
   "codemirror_mode": {
    "name": "ipython",
    "version": 3
   },
   "file_extension": ".py",
   "mimetype": "text/x-python",
   "name": "python",
   "nbconvert_exporter": "python",
   "pygments_lexer": "ipython3",
   "version": "3.6.15"
  }
 },
 "nbformat": 4,
 "nbformat_minor": 2
}
