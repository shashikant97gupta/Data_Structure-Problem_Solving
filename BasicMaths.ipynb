{
 "cells": [
  {
   "cell_type": "markdown",
   "metadata": {},
   "source": [
    "Program to print count of all digits of a number"
   ]
  },
  {
   "cell_type": "code",
   "execution_count": 6,
   "metadata": {},
   "outputs": [
    {
     "data": {
      "text/plain": [
       "3"
      ]
     },
     "execution_count": 6,
     "metadata": {},
     "output_type": "execute_result"
    }
   ],
   "source": [
    "#Approach 1\n",
    "\n",
    "def count_digits(num):\n",
    "    count = 0\n",
    "    while num:\n",
    "        count+=1\n",
    "        num = num//10\n",
    "    return count\n",
    "count_digits(123.0)"
   ]
  },
  {
   "cell_type": "code",
   "execution_count": 8,
   "metadata": {},
   "outputs": [
    {
     "data": {
      "text/plain": [
       "401"
      ]
     },
     "execution_count": 8,
     "metadata": {},
     "output_type": "execute_result"
    }
   ],
   "source": [
    "# Problem Statement: Given an integer N return the reverse of the given number.\n",
    "\n",
    "# Note: If a number has trailing zeros, then its reverse will not include them. For e.g., reverse of 10400 will be 401 instead of 00401.\n",
    "\n",
    "def reverse_num(num):\n",
    "    a = ''\n",
    "    while num > 0:\t        \n",
    "\t    last = num%10\n",
    "\t    a += str(last)\n",
    "\t    num = num//10\n",
    "    return int(a)\n",
    "\t\n",
    "    \n",
    "reverse_num(10400)\n"
   ]
  },
  {
   "cell_type": "code",
   "execution_count": null,
   "metadata": {},
   "outputs": [],
   "source": [
    "# Problem Statement: Given an integer N, return true if it is a palindrome else return false.\n",
    "\n",
    "# Example 1:\n",
    "# Input:N = 4554\n",
    "# Output:Palindrome Number\n",
    "# Explanation: The reverse of 4554 is 4554 and therefore it is palindrome number\n",
    "# Example 2:\n",
    "# Input:N = 7789\n",
    "# Output: Not Palindrome\n",
    "# Explanation: The reverse of number 7789 is 9877 and therefore it is not palindrome\n",
    "\n",
    "# My Bruteforce Approach\n",
    "def check_palindrome(num):\n",
    "    #to check the length of the num is even or odd\n",
    "    is_len_even = True if len(str(num))%2 == 0 else False\n",
    "\n",
    "    #var to keep track of the number of iterations we need to perform\n",
    "    to_iter = 0\n",
    "\n",
    "    #halfing the iteration if even and halfing and adding 1 when it is odd\n",
    "    to_iter = len(str(num))//2 if is_len_even else len(str(num))//2 + 1\n",
    "\n",
    "    num1 = num2 = num\n",
    "\n",
    "    #looping on the number as i want to reverse it\n",
    "    while to_iter > 0 :\n",
    "        \n",
    "\n"
   ]
  },
  {
   "cell_type": "code",
   "execution_count": 6,
   "metadata": {},
   "outputs": [
    {
     "name": "stdout",
     "output_type": "stream",
     "text": [
      "Not a number\n"
     ]
    }
   ],
   "source": [
    "# Approach 2 of above problem tricky approach\n",
    "\n",
    "num = input(\"Enter a number to check Palindrome: \")\n",
    "num2 = num[::-1]\n",
    "if (num.isdigit()):\n",
    "    if int(num) == int(num2):\n",
    "        print(\"Palindrome Number\")\n",
    "    else:\n",
    "        print(\"Non Palindrome Number\")\n",
    "else:\n",
    "    print(\"Not a number\")"
   ]
  },
  {
   "cell_type": "code",
   "execution_count": 11,
   "metadata": {},
   "outputs": [
    {
     "data": {
      "text/plain": [
       "True"
      ]
     },
     "execution_count": 11,
     "metadata": {},
     "output_type": "execute_result"
    }
   ],
   "source": [
    "\n",
    "# Optimized Approach\n",
    "def check_palindrome_of_num(num): #4554\n",
    "    revnum = 0  # initialize a separate variable to 0 \n",
    "    dup = num # copying num to value to compare at last\n",
    "\n",
    "    # looping untill the length of our number\n",
    "    while num:\n",
    "        ld = num%10  # getting the last digit\n",
    "        revnum = revnum*10 + ld  # reversing the number one by one\n",
    "        num = num//10  # reducing the num from last as we have already obtained its last digit\n",
    "\n",
    "    # comparing the reversed num and the duplicate copy we have kept\n",
    "    if(revnum == dup):\n",
    "        return True\n",
    "    else : \n",
    "        return False\n",
    "    \n",
    "\n",
    "check_palindrome_of_num(455554)\n",
    "\n",
    "\n",
    "\n"
   ]
  },
  {
   "cell_type": "markdown",
   "metadata": {},
   "source": [
    "Problem Statement: Given two integers N1 and N2, find their greatest common divisor.\n",
    "\n",
    "The Greatest Common Divisor of any two integers is the largest number that divides both integers.\n",
    "\n",
    "\n",
    "Example 1:\n",
    "Input:N1 = 9, N2 = 12\n",
    "                \n",
    "Output:3\n",
    "Explanation:Factors of 9: 1, 3 and 9\n",
    "Factors of 12: 1, 2, 3, 4, 6, 12\n",
    "Common Factors: 1, 3 out of which 3 is the greatest hence it is the GCD.\n",
    "Example 2:\n",
    "Input:N1 = 20, N2 = 15\n",
    "                \n",
    "Output: 5\n",
    "Explanation:Factors of 20: 1, 2, 4, 5\n",
    "Factors of 15: 1, 3, 5\n",
    "Common Factors: 1, 5 out of which 5 is the greatest hence it is the GCD."
   ]
  },
  {
   "cell_type": "code",
   "execution_count": 8,
   "metadata": {},
   "outputs": [
    {
     "name": "stdout",
     "output_type": "stream",
     "text": [
      "5\n"
     ]
    }
   ],
   "source": [
    "\n",
    "import math\n",
    "\n",
    "def find_factors(num):\n",
    "    ceil_num = 1\n",
    "    lst = []\n",
    "    while ceil_num <= num:\n",
    "        if (num % ceil_num == 0):\n",
    "            lst.append(ceil_num)\n",
    "        ceil_num += 1\n",
    "    return lst\n",
    "\n",
    "def find_gcd(lst1, lst2):\n",
    "    # min_len_lst = lst1 if len(lst1) < len(lst2) else lst2\n",
    "    # min_len_lst = min_len_lst.sort(reverse=True)\n",
    "    lst1.sort(reverse=True)\n",
    "    for i in lst1:\n",
    "        if i in lst2:\n",
    "            return i\n",
    "        else :\n",
    "            continue\n",
    "    return 1\n",
    "\n",
    "\n",
    "N1 = 20\n",
    "N2 = 15\n",
    "fact1 = find_factors(N1)\n",
    "fact2 = find_factors(N2)\n",
    "\n",
    "gcd = find_gcd(fact1, fact2)\n",
    "\n",
    "print(gcd)\n",
    "\n",
    "\n",
    "\n"
   ]
  },
  {
   "cell_type": "markdown",
   "metadata": {},
   "source": []
  },
  {
   "cell_type": "code",
   "execution_count": 9,
   "metadata": {},
   "outputs": [
    {
     "name": "stdout",
     "output_type": "stream",
     "text": [
      "5\n"
     ]
    }
   ],
   "source": [
    "# corrected code from chatgpt\n",
    "\n",
    "def gcd(a, b):\n",
    "    while b:\n",
    "        a, b = b, a % b\n",
    "    return a\n",
    "\n",
    "N1 = 20\n",
    "N2 = 15\n",
    "\n",
    "gcd_result = gcd(N1, N2)\n",
    "print(gcd_result)"
   ]
  },
  {
   "cell_type": "markdown",
   "metadata": {},
   "source": [
    "***********************Check if a number is Armstrong Number or not\n",
    "\n",
    "\n",
    "31\n",
    "\n",
    "0\n",
    "Problem Statement: Given an integer N, return true it is an Armstrong number otherwise return false.\n",
    "\n",
    "An Amrstrong number is a number that is equal to the sum of its own digits each raised to the power of the number of digits.\n",
    "\n",
    "Examples\n",
    "Example 1:\n",
    "Input:N = 153\n",
    "Output:True\n",
    "Explanation: 13+53+33 = 1 + 125 + 27 = 153\n",
    "Example 2:\n",
    "Input:N = 371\n",
    "Output: True\n",
    "Explanation: 33+53+13 = 27 + 343 + 1 = 371\n"
   ]
  },
  {
   "cell_type": "code",
   "execution_count": 2,
   "metadata": {},
   "outputs": [
    {
     "data": {
      "text/plain": [
       "True"
      ]
     },
     "execution_count": 2,
     "metadata": {},
     "output_type": "execute_result"
    }
   ],
   "source": [
    "def check_armstrong_num(num):\n",
    "    if(num > 0):\n",
    "        cal_num = 0\n",
    "        original_num = num\n",
    "        count = len(str(num))\n",
    "        while num > 0:\n",
    "            lst = num % 10\n",
    "            num = num // 10\n",
    "            cal_num += lst**count\n",
    "        return cal_num == original_num\n",
    "    else:\n",
    "        return False\n",
    "\n",
    "\n",
    "\n",
    "check_armstrong_num(153)\n",
    "\n",
    "\n",
    "\n",
    "\n",
    "\n"
   ]
  },
  {
   "cell_type": "markdown",
   "metadata": {},
   "source": [
    "*****************************************************************************************************"
   ]
  },
  {
   "cell_type": "markdown",
   "metadata": {},
   "source": [
    "Print all Divisors of a given Number\n",
    "\n",
    "\n",
    "23\n",
    "\n",
    "1\n",
    "Problem Statement: Given an integer N, return all divisors of N.\n",
    "\n",
    "A divisor of an integer N is a positive integer that divides N without leaving a remainder. In other words, if N is divisible by another integer without any remainder, then that integer is considered a divisor of N.\n",
    "\n",
    "Examples\n",
    "Example 1:\n",
    "Input:N = 36\n",
    "Output:[1, 2, 3, 4, 6, 9, 12, 18, 36]\n",
    "Explanation: The divisors of 36 are 1, 2, 3, 4, 6, 9, 12, 18, 36.\n",
    "Example 2:\n",
    "Input:N =12\n",
    "Output: [1, 2, 3, 4, 6, 12]\n",
    "Explanation: The divisors of 12 are 1, 2, 3, 4, 6, 12."
   ]
  },
  {
   "cell_type": "code",
   "execution_count": 3,
   "metadata": {},
   "outputs": [
    {
     "name": "stdout",
     "output_type": "stream",
     "text": [
      "[1, 2, 3, 4, 6, 9, 12, 18, 36]\n"
     ]
    }
   ],
   "source": [
    "def find_factors(num):\n",
    "    ceil_num = 1\n",
    "    lst = []\n",
    "    while ceil_num <= num:\n",
    "        if (num % ceil_num == 0):\n",
    "            lst.append(ceil_num)\n",
    "        ceil_num += 1\n",
    "    return lst\n",
    "\n",
    "x = find_factors(36)\n",
    "print(x)"
   ]
  },
  {
   "cell_type": "markdown",
   "metadata": {},
   "source": []
  },
  {
   "cell_type": "markdown",
   "metadata": {},
   "source": [
    "Check if a number is prime or not\n",
    "\n",
    "\n",
    "25\n",
    "\n",
    "0\n",
    "Problem Statement: Given an integer N, check whether it is prime or not. A prime number is a number that is only divisible by 1 and itself and the total number of divisors is 2.\n",
    "\n",
    "Examples\n",
    "Example 1:\n",
    "Input:N = 2\n",
    "Output:True\n",
    "Explanation: 2 is a prime number because it has two divisors: 1 and 2 (the number itself).\n",
    "Example 2:\n",
    "Input:N =10\n",
    "Output: False\n",
    "Explanation: 10 is not prime, it is a composite number because it has 4 divisors: 1, 2, 5 and 10.\n"
   ]
  },
  {
   "cell_type": "code",
   "execution_count": 15,
   "metadata": {},
   "outputs": [
    {
     "name": "stdout",
     "output_type": "stream",
     "text": [
      "Not a prime number\n"
     ]
    }
   ],
   "source": [
    "# Non Optimized Approach\n",
    "import math\n",
    "\n",
    "def find_factors(num):\n",
    "    ceil_num = 1\n",
    "    lst = []\n",
    "    while ceil_num <= math.sqrt(num):\n",
    "        if (num % ceil_num == 0):\n",
    "            lst.append(ceil_num)\n",
    "        ceil_num += 1\n",
    "    return lst\n",
    "\n",
    "x = find_factors(27)\n",
    "\n",
    "if(len(x) <= 1 ):\n",
    "    print(\"Prime Number\")\n",
    "else:\n",
    "    print(\"Not a prime number\")\n"
   ]
  },
  {
   "cell_type": "code",
   "execution_count": 17,
   "metadata": {},
   "outputs": [
    {
     "name": "stdout",
     "output_type": "stream",
     "text": [
      "Prime Number\n"
     ]
    }
   ],
   "source": [
    "# optimized approach\n",
    "import math\n",
    "\n",
    "def check_prime(num):\n",
    "    ceil_num = 2\n",
    "    count = 0\n",
    "    while ceil_num < math.sqrt(num):\n",
    "        if(num % ceil_num == 0):\n",
    "            count += 1\n",
    "        ceil_num += 1\n",
    "\n",
    "    if(count == 0):\n",
    "        print(\"Prime Number\")\n",
    "    else:\n",
    "        print(\"Non Prime Number\")\n",
    "\n",
    "check_prime(29)\n",
    "\n",
    "\n"
   ]
  },
  {
   "cell_type": "markdown",
   "metadata": {},
   "source": []
  }
 ],
 "metadata": {
  "kernelspec": {
   "display_name": ".venv",
   "language": "python",
   "name": "python3"
  },
  "language_info": {
   "codemirror_mode": {
    "name": "ipython",
    "version": 3
   },
   "file_extension": ".py",
   "mimetype": "text/x-python",
   "name": "python",
   "nbconvert_exporter": "python",
   "pygments_lexer": "ipython3",
   "version": "3.6.15"
  }
 },
 "nbformat": 4,
 "nbformat_minor": 2
}
